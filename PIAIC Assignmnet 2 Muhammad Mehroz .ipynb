{
 "cells": [
  {
   "cell_type": "markdown",
   "metadata": {},
   "source": [
    "PIAIC Assignmnet<BR>\n",
    "Task1\n",
    "1. import mother and father attribute\n",
    "2. add two new attributes in the child constructor\n",
    "\n",
    "\n",
    "Task2:\n",
    "Create operator overloading"
   ]
  },
  {
   "cell_type": "markdown",
   "metadata": {},
   "source": [
    "Muhammad Mehroz\n"
   ]
  },
  {
   "cell_type": "markdown",
   "metadata": {},
   "source": [
    "Mother Class <br>\n",
    "this class has attributes of skills & hobbies"
   ]
  },
  {
   "cell_type": "code",
   "execution_count": 11,
   "metadata": {},
   "outputs": [],
   "source": [
    "class Mother:\n",
    "    def __init__(self,skills , hobbies):\n",
    "        self.skills = skills\n",
    "        self.hobb = hobbies\n",
    "    mother_l = \"\"\n",
    "    def language_speak(self,mother_language):\n",
    "        self.mother_l = mother_language\n",
    "\n",
    "    def display(self):\n",
    "        cards = f\"\"\"\n",
    "                SKills:{self.skills}\n",
    "                Hobbies: {self.hobb}\n",
    "                Mother_Language:{self.mother_l}\n",
    "                \"\"\"\n",
    "        return  cards\n",
    "\n"
   ]
  },
  {
   "cell_type": "markdown",
   "metadata": {},
   "source": [
    "Father Class"
   ]
  },
  {
   "cell_type": "code",
   "execution_count": 12,
   "metadata": {},
   "outputs": [],
   "source": [
    "class Father:\n",
    "    def __init__(self,Profession,car): # constructor \n",
    "        self.profession = Profession \n",
    "        self.car = car\n",
    "\n",
    "    #method\n",
    "    def display(self):\n",
    "        cards = f\"\"\"\n",
    "                Profession: {self.profession}\n",
    "                Car : {self.car}\n",
    "                \"\"\"\n",
    "        return  cards\n",
    "\n",
    "\n"
   ]
  },
  {
   "cell_type": "markdown",
   "metadata": {},
   "source": [
    "Child Class"
   ]
  },
  {
   "cell_type": "code",
   "execution_count": 14,
   "metadata": {},
   "outputs": [
    {
     "name": "stdout",
     "output_type": "stream",
     "text": [
      "\n",
      "                Skills:Programming\n",
      "                Hobbies: Photography\n",
      "                Profession: AI \n",
      "                Car : Honda insight\n",
      "                Things Like To Eat :Pizza\n",
      "                \n"
     ]
    }
   ],
   "source": [
    "class Child(Mother,Father):\n",
    "    def __init__(self,skills , hobbies,profession ,car,things_to_eat):\n",
    "        Mother.__init__(self,skills , hobbies) # inherited method\n",
    "        Father.__init__(self,profession,car)\n",
    "        self.eat = things_to_eat\n",
    "\n",
    "    \n",
    "    def display(self):\n",
    "        cards = f\"\"\"\n",
    "                Skills:{self.skills}\n",
    "                Hobbies: {self.hobb}\n",
    "                Profession: {self.profession}\n",
    "                Car : {self.car}\n",
    "                Things Like To Eat :{self.eat}\n",
    "                \"\"\"\n",
    "        return  cards\n",
    "\n",
    "\n",
    "c  = Child(\"Programming\",'Photography',\"AI \",\"Honda insight\",'Pizza')\n",
    "\n",
    "\n",
    "print(c.display())"
   ]
  },
  {
   "cell_type": "markdown",
   "metadata": {},
   "source": [
    "Operator Overloading"
   ]
  },
  {
   "cell_type": "code",
   "execution_count": 20,
   "metadata": {},
   "outputs": [
    {
     "name": "stdout",
     "output_type": "stream",
     "text": [
      "Subject 1 marks: 70 subject 2 marks: 85\n"
     ]
    }
   ],
   "source": [
    "class Marks:\n",
    "    def __init__(self,subject1,subject2):\n",
    "        self.subject1 = subject1\n",
    "        self.subject2 =subject2\n",
    "    \n",
    "    def __add__(self,another):\n",
    "        sub1 = self.subject1 +another.subject1\n",
    "        sub2 = self.subject2 +another.subject2\n",
    "        total_marks = Marks(sub1,sub2)\n",
    "        return total_marks\n",
    "    def __str__(self):\n",
    "        return f\"Subject 1 marks: {self.subject1} subject 2 marks: {self.subject2}\"\n",
    "\n",
    "S1 = Marks(50,45)\n",
    "S2 = Marks(20,40)\n",
    "sub_total = S1 +S2\n",
    "\n",
    "print(sub_total)"
   ]
  }
 ],
 "metadata": {
  "kernelspec": {
   "display_name": "Python 3.9.12 ('base')",
   "language": "python",
   "name": "python3"
  },
  "language_info": {
   "codemirror_mode": {
    "name": "ipython",
    "version": 3
   },
   "file_extension": ".py",
   "mimetype": "text/x-python",
   "name": "python",
   "nbconvert_exporter": "python",
   "pygments_lexer": "ipython3",
   "version": "3.9.12"
  },
  "orig_nbformat": 4,
  "vscode": {
   "interpreter": {
    "hash": "f3a52463084db90f96d29dcfcfd9bf276dba3c521d76c4c38c835392b64a093b"
   }
  }
 },
 "nbformat": 4,
 "nbformat_minor": 2
}
